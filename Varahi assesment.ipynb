{
 "cells": [
  {
   "cell_type": "code",
   "execution_count": 35,
   "id": "414b782b",
   "metadata": {},
   "outputs": [],
   "source": [
    "import os\n",
    "import shutil\n",
    "import random\n",
    "import numpy as np\n",
    "import tensorflow as tf\n",
    "from tensorflow.keras.preprocessing.image import ImageDataGenerator\n",
    "from tensorflow.keras.applications import VGG16\n",
    "from tensorflow.keras import layers, models"
   ]
  },
  {
   "cell_type": "code",
   "execution_count": 36,
   "id": "b7fef422",
   "metadata": {},
   "outputs": [],
   "source": [
    "# Function to create a test dataset from a portion of the training dataset\n",
    "def create_test_dataset(src_folder, dest_folder, test_percentage):\n",
    "    os.makedirs(dest_folder, exist_ok=True)\n",
    "    classes = os.listdir(src_folder)\n",
    "\n",
    "    for class_name in classes:\n",
    "        class_path = os.path.join(src_folder, class_name)\n",
    "        dest_class_path = os.path.join(dest_folder, class_name)\n",
    "        os.makedirs(dest_class_path, exist_ok=True)\n",
    "\n",
    "        images = os.listdir(class_path)\n",
    "        num_images_to_copy = int(len(images) * test_percentage)\n",
    "        test_images = random.sample(images, num_images_to_copy)\n",
    "\n",
    "        for image in test_images:\n",
    "            src_image_path = os.path.join(class_path, image)\n",
    "            dest_image_path = os.path.join(dest_class_path, image)\n",
    "            shutil.copy(src_image_path, dest_image_path)"
   ]
  },
  {
   "cell_type": "code",
   "execution_count": 37,
   "id": "c5fc5ef1",
   "metadata": {},
   "outputs": [],
   "source": [
    "# Paths and parameters\n",
    "combined_train_dataset_path = r'C:\\Users\\DELL\\Desktop\\dataset\\training_set'\n",
    "test_dataset_path = r'C:\\Users\\DELL\\Desktop\\dataset\\test_set'\n",
    "img_width, img_height = 224, 224\n",
    "batch_size = 32\n",
    "test_percentage = 0.2"
   ]
  },
  {
   "cell_type": "code",
   "execution_count": 38,
   "id": "cd009899",
   "metadata": {},
   "outputs": [],
   "source": [
    "# Create test dataset from training dataset\n",
    "create_test_dataset(combined_train_dataset_path, test_dataset_path, test_percentage)"
   ]
  },
  {
   "cell_type": "code",
   "execution_count": 39,
   "id": "f3ac1e37",
   "metadata": {},
   "outputs": [],
   "source": [
    "# Create data generators for training and validation with a split\n",
    "datagen = ImageDataGenerator(rescale=1./255, validation_split=0.2)"
   ]
  },
  {
   "cell_type": "code",
   "execution_count": 41,
   "id": "6d2dd017",
   "metadata": {},
   "outputs": [
    {
     "name": "stdout",
     "output_type": "stream",
     "text": [
      "Found 327 images belonging to 4 classes.\n"
     ]
    }
   ],
   "source": [
    "# Combine all training datasets into one training generator\n",
    "train_generator = tf.keras.preprocessing.image.ImageDataGenerator().flow_from_directory(\n",
    "    combined_train_dataset_path,\n",
    "    target_size=(img_width, img_height),\n",
    "    batch_size=batch_size,\n",
    "    class_mode='categorical',\n",
    "    subset='training'\n",
    ")"
   ]
  },
  {
   "cell_type": "code",
   "execution_count": 42,
   "id": "008372a1",
   "metadata": {},
   "outputs": [
    {
     "name": "stdout",
     "output_type": "stream",
     "text": [
      "Found 64 images belonging to 4 classes.\n"
     ]
    }
   ],
   "source": [
    "# Create data generator for validation\n",
    "validation_generator = datagen.flow_from_directory(\n",
    "    combined_train_dataset_path,\n",
    "    target_size=(img_width, img_height),\n",
    "    batch_size=batch_size,\n",
    "    class_mode='categorical',\n",
    "    subset='validation'\n",
    ")"
   ]
  },
  {
   "cell_type": "code",
   "execution_count": 43,
   "id": "70755dc3",
   "metadata": {},
   "outputs": [],
   "source": [
    "# Build a simple CNN model using VGG16\n",
    "base_model = VGG16(weights='imagenet', include_top=False, input_shape=(img_width, img_height, 3))\n",
    "base_model.trainable = False"
   ]
  },
  {
   "cell_type": "code",
   "execution_count": 44,
   "id": "5e5b79dc",
   "metadata": {},
   "outputs": [],
   "source": [
    "model = models.Sequential()\n",
    "model.add(base_model)\n",
    "model.add(layers.Flatten())\n",
    "model.add(layers.Dense(256, activation='relu'))\n",
    "model.add(layers.Dropout(0.5))\n",
    "model.add(layers.Dense(4, activation='softmax'))  # 4 classes: copper, brass, still, non-metal\n"
   ]
  },
  {
   "cell_type": "code",
   "execution_count": 45,
   "id": "6c04b7fb",
   "metadata": {},
   "outputs": [],
   "source": [
    "# Compile the model\n",
    "model.compile(optimizer='adam', loss='categorical_crossentropy', metrics=['accuracy'])\n"
   ]
  },
  {
   "cell_type": "code",
   "execution_count": 46,
   "id": "8f89883b",
   "metadata": {},
   "outputs": [
    {
     "name": "stdout",
     "output_type": "stream",
     "text": [
      "Epoch 1/10\n",
      "11/11 [==============================] - 90s 8s/step - loss: 49.3511 - accuracy: 0.4832 - val_loss: 0.9713 - val_accuracy: 0.5781\n",
      "Epoch 2/10\n",
      "11/11 [==============================] - 107s 10s/step - loss: 8.8645 - accuracy: 0.7064 - val_loss: 1.1738 - val_accuracy: 0.4688\n",
      "Epoch 3/10\n",
      "11/11 [==============================] - 101s 9s/step - loss: 3.9638 - accuracy: 0.8563 - val_loss: 0.7661 - val_accuracy: 0.6719\n",
      "Epoch 4/10\n",
      "11/11 [==============================] - 103s 9s/step - loss: 3.0330 - accuracy: 0.8502 - val_loss: 0.9017 - val_accuracy: 0.6562\n",
      "Epoch 5/10\n",
      "11/11 [==============================] - 103s 9s/step - loss: 2.3947 - accuracy: 0.8777 - val_loss: 0.9476 - val_accuracy: 0.5625\n",
      "Epoch 6/10\n",
      "11/11 [==============================] - 101s 9s/step - loss: 1.8448 - accuracy: 0.9174 - val_loss: 0.8736 - val_accuracy: 0.7188\n",
      "Epoch 7/10\n",
      "11/11 [==============================] - 102s 9s/step - loss: 1.7944 - accuracy: 0.9327 - val_loss: 0.8772 - val_accuracy: 0.7031\n",
      "Epoch 8/10\n",
      "11/11 [==============================] - 100s 9s/step - loss: 1.7565 - accuracy: 0.9511 - val_loss: 0.9578 - val_accuracy: 0.5625\n",
      "Epoch 9/10\n",
      "11/11 [==============================] - 101s 9s/step - loss: 1.4498 - accuracy: 0.9327 - val_loss: 1.0248 - val_accuracy: 0.5000\n",
      "Epoch 10/10\n",
      "11/11 [==============================] - 100s 9s/step - loss: 1.9158 - accuracy: 0.9205 - val_loss: 0.9064 - val_accuracy: 0.5625\n"
     ]
    }
   ],
   "source": [
    "# Train the model\n",
    "epochs = 10\n",
    "history = model.fit(\n",
    "    train_generator,\n",
    "    steps_per_epoch=len(train_generator),\n",
    "    epochs=epochs,\n",
    "    validation_data=validation_generator,\n",
    "    validation_steps=len(validation_generator)\n",
    ")"
   ]
  },
  {
   "cell_type": "code",
   "execution_count": 47,
   "id": "06951fb5",
   "metadata": {},
   "outputs": [
    {
     "name": "stdout",
     "output_type": "stream",
     "text": [
      "Found 55 images belonging to 4 classes.\n"
     ]
    }
   ],
   "source": [
    "# Evaluate the model on the test set\n",
    "test_generator = tf.keras.preprocessing.image.ImageDataGenerator().flow_from_directory(\n",
    "    test_dataset_path,\n",
    "    target_size=(img_width, img_height),\n",
    "    batch_size=batch_size,\n",
    "    class_mode='categorical'\n",
    ")"
   ]
  },
  {
   "cell_type": "code",
   "execution_count": 48,
   "id": "6115e578",
   "metadata": {},
   "outputs": [
    {
     "name": "stdout",
     "output_type": "stream",
     "text": [
      "2/2 [==============================] - 11s 5s/step - loss: 2.1674e-08 - accuracy: 1.0000\n",
      "Test Accuracy: 1.0\n"
     ]
    }
   ],
   "source": [
    "test_eval = model.evaluate(test_generator)\n",
    "print(\"Test Accuracy:\", test_eval[1])"
   ]
  },
  {
   "cell_type": "code",
   "execution_count": null,
   "id": "da4050dc",
   "metadata": {},
   "outputs": [],
   "source": []
  }
 ],
 "metadata": {
  "kernelspec": {
   "display_name": "Python 3 (ipykernel)",
   "language": "python",
   "name": "python3"
  },
  "language_info": {
   "codemirror_mode": {
    "name": "ipython",
    "version": 3
   },
   "file_extension": ".py",
   "mimetype": "text/x-python",
   "name": "python",
   "nbconvert_exporter": "python",
   "pygments_lexer": "ipython3",
   "version": "3.11.5"
  }
 },
 "nbformat": 4,
 "nbformat_minor": 5
}
